{
 "cells": [
  {
   "cell_type": "code",
   "execution_count": 1,
   "metadata": {
    "collapsed": true
   },
   "outputs": [],
   "source": [
    "import os\n",
    "import glob\n",
    "import time\n",
    "import itertools\n",
    "\n",
    "from sklearn.svm import LinearSVC, SVC\n",
    "from sklearn.model_selection import train_test_split\n",
    "from sklearn.preprocessing import StandardScaler\n",
    "from sklearn.ensemble import ExtraTreesClassifier\n",
    "from sklearn.feature_selection import SelectFromModel\n",
    "from sklearn.externals import joblib\n",
    "from sklearn.pipeline import Pipeline\n",
    "from scipy.ndimage.measurements import label\n",
    "\n",
    "from training import *\n",
    "\n",
    "np.random.seed(0xdeadbeef)\n",
    "\n",
    "%matplotlib inline\n",
    "%load_ext autoreload\n",
    "%autoreload 2"
   ]
  },
  {
   "cell_type": "code",
   "execution_count": 2,
   "metadata": {
    "collapsed": true
   },
   "outputs": [],
   "source": [
    "color_space = 'HLS' # Can be RGB, HSV, LUV, HLS, YUV, YCrCb\n",
    "orient = 9  # HOG orientations\n",
    "pix_per_cell = 8 # HOG pixels per cell\n",
    "cell_per_block = 2 # HOG cells per block\n",
    "hog_channel = \"ALL\" # Can be 0, 1, 2, or \"ALL\"\n",
    "spatial_size = (16, 16) # Spatial binning dimensions\n",
    "hist_bins = 16    # Number of histogram bins\n",
    "spatial_feat = True # Spatial features on or off\n",
    "hist_feat = True # Histogram features on or off\n",
    "hog_feat = True # HOG features on or off"
   ]
  },
  {
   "cell_type": "code",
   "execution_count": 3,
   "metadata": {
    "collapsed": false
   },
   "outputs": [
    {
     "name": "stdout",
     "output_type": "stream",
     "text": [
      "74.19 Seconds to extract features...\n"
     ]
    }
   ],
   "source": [
    "t=time.time()\n",
    "cars = glob.iglob('data/vehicles/**/*.png')\n",
    "car_features = extract_features(cars, color_space=color_space, \n",
    "                        spatial_size=spatial_size, hist_bins=hist_bins, \n",
    "                        orient=orient, pix_per_cell=pix_per_cell, \n",
    "                        cell_per_block=cell_per_block, \n",
    "                        hog_channel=hog_channel, spatial_feat=spatial_feat, \n",
    "                        hist_feat=hist_feat, hog_feat=hog_feat)\n",
    "\n",
    "notcars = glob.iglob('data/non-vehicles/**/*.png')\n",
    "notcar_features = extract_features(notcars, color_space=color_space, \n",
    "                        spatial_size=spatial_size, hist_bins=hist_bins, \n",
    "                        orient=orient, pix_per_cell=pix_per_cell, \n",
    "                        cell_per_block=cell_per_block, \n",
    "                        hog_channel=hog_channel, spatial_feat=spatial_feat, \n",
    "                        hist_feat=hist_feat, hog_feat=hog_feat)\n",
    "t2 = time.time()\n",
    "print(round(t2-t, 2), 'Seconds to extract features...')"
   ]
  },
  {
   "cell_type": "code",
   "execution_count": 4,
   "metadata": {
    "collapsed": true
   },
   "outputs": [],
   "source": [
    "# Create an array stack of feature vectors\n",
    "X = np.vstack((car_features, notcar_features)).astype(np.float64)                        \n",
    "\n",
    "# Define the labels vector\n",
    "y = np.hstack((np.ones(len(car_features)), np.zeros(len(notcar_features))))"
   ]
  },
  {
   "cell_type": "code",
   "execution_count": 5,
   "metadata": {
    "collapsed": true
   },
   "outputs": [],
   "source": [
    "# X_train, X_test, y_train, y_test = train_test_split(X, y, test_size=0.2, random_state=np.random.randint(1000))\n",
    "X_train, X_test, y_train, y_test = train_test_split(X, y, test_size=0.2, random_state=0xdeadbeef)"
   ]
  },
  {
   "cell_type": "code",
   "execution_count": 11,
   "metadata": {
    "collapsed": false
   },
   "outputs": [
    {
     "name": "stdout",
     "output_type": "stream",
     "text": [
      "16.23 Seconds to train SVC...\n"
     ]
    }
   ],
   "source": [
    "clf = Pipeline([('scaling', StandardScaler()),\n",
    "#                  ('feature_selection', SelectFromModel(ExtraTreesClassifier())),\n",
    "                ('classification', LinearSVC(loss='hinge')),\n",
    "               ])\n",
    "\n",
    "# Check the training time for the SVC\n",
    "t=time.time()\n",
    "clf.fit(X_train, y_train)\n",
    "t2 = time.time()\n",
    "print(round(t2-t, 2), 'Seconds to train SVC...')"
   ]
  },
  {
   "cell_type": "code",
   "execution_count": 12,
   "metadata": {
    "collapsed": false
   },
   "outputs": [
    {
     "name": "stdout",
     "output_type": "stream",
     "text": [
      "Test Accuracy of classifier =  0.9764\n",
      "My classifier predicts:  [ 1.  0.  1.  1.  0.  1.  0.  0.  0.  0.]\n",
      "For these 10 labels:  [ 1.  0.  1.  1.  0.  1.  0.  0.  0.  0.]\n",
      "0.00765 Seconds to predict 10 labels\n"
     ]
    }
   ],
   "source": [
    "print('Test Accuracy of classifier = ', round(clf.score(X_test, y_test), 4))\n",
    "# Check the prediction time for a single sample\n",
    "t=time.time()\n",
    "n_predict = 10\n",
    "print('My classifier predicts: ', clf.predict(X_test[0:n_predict]))\n",
    "print('For these',n_predict, 'labels: ', y_test[0:n_predict])\n",
    "t2 = time.time()\n",
    "print(round(t2-t, 5), 'Seconds to predict', n_predict,'labels')"
   ]
  },
  {
   "cell_type": "code",
   "execution_count": 8,
   "metadata": {
    "collapsed": false
   },
   "outputs": [
    {
     "name": "stdout",
     "output_type": "stream",
     "text": [
      "[[9816   47]\n",
      " [  41 8751]]\n"
     ]
    }
   ],
   "source": [
    "## Create hard negative data\n",
    "# from shutil import copyfile\n",
    "\n",
    "# def make_hardneg(out_path, neg=True):\n",
    "#     y_pred = clf.predict(X)\n",
    "\n",
    "#     if neg:\n",
    "#         notcars = glob.glob('data/non-vehicles/**/*.png')\n",
    "#     else:\n",
    "#         cars = glob.glob('data/vehicles/**/*.png')\n",
    "#     offset = len(car_features)\n",
    "\n",
    "#     # Wrong indices\n",
    "#     wrong = np.nonzero(y_pred != y)[0]\n",
    "#     for w in wrong:\n",
    "#         # False positives\n",
    "#         if neg and y_pred[w] == 1 and y[w] == 0:\n",
    "#             fname = notcars[w - offset]\n",
    "#             copyfile(fname, out_path+'/hardneg_'+str(w - offset)+'.png')\n",
    "#         elif not neg and y_pred[w] == 0 and y[w] == 1:\n",
    "#             fname = cars[w]\n",
    "#             copyfile(fname, out_path+'/hardpos_'+str(w)+'.png')\n",
    "# make_hardneg('data/hardpos/', False)\n",
    "\n",
    "# Print Confusion matrix\n",
    "from sklearn.metrics import confusion_matrix\n",
    "y_pred = clf.predict(X)\n",
    "conf = confusion_matrix(y, y_pred)\n",
    "print(conf)"
   ]
  },
  {
   "cell_type": "code",
   "execution_count": 13,
   "metadata": {
    "collapsed": false
   },
   "outputs": [
    {
     "data": {
      "text/plain": [
       "['models/clf_9764.pkl']"
      ]
     },
     "execution_count": 13,
     "metadata": {},
     "output_type": "execute_result"
    }
   ],
   "source": [
    "from sklearn.externals import joblib\n",
    "config = dict(color_space=color_space, \n",
    "            spatial_size=spatial_size, hist_bins=hist_bins, \n",
    "            orient=orient, pix_per_cell=pix_per_cell, \n",
    "            cell_per_block=cell_per_block, \n",
    "            hog_channel=hog_channel, spatial_feat=spatial_feat, \n",
    "            hist_feat=hist_feat, hog_feat=hog_feat)\n",
    "joblib.dump({'model':clf, 'config':config}, 'models/clf_9764.pkl')"
   ]
  },
  {
   "cell_type": "code",
   "execution_count": null,
   "metadata": {
    "collapsed": true
   },
   "outputs": [],
   "source": []
  }
 ],
 "metadata": {
  "kernelspec": {
   "display_name": "Python [conda root]",
   "language": "python",
   "name": "conda-root-py"
  },
  "language_info": {
   "codemirror_mode": {
    "name": "ipython",
    "version": 3
   },
   "file_extension": ".py",
   "mimetype": "text/x-python",
   "name": "python",
   "nbconvert_exporter": "python",
   "pygments_lexer": "ipython3",
   "version": "3.5.2"
  }
 },
 "nbformat": 4,
 "nbformat_minor": 2
}
